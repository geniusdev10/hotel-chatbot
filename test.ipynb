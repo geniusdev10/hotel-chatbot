{
 "cells": [
  {
   "cell_type": "code",
   "execution_count": 20,
   "metadata": {},
   "outputs": [],
   "source": [
    "from flask import Flask\n"
   ]
  },
  {
   "cell_type": "code",
   "execution_count": 21,
   "metadata": {},
   "outputs": [],
   "source": [
    "app = Flask(__name__) \n"
   ]
  },
  {
   "cell_type": "code",
   "execution_count": 22,
   "metadata": {},
   "outputs": [
    {
     "name": "stdout",
     "output_type": "stream",
     "text": [
      "<Flask '__main__'>\n"
     ]
    }
   ],
   "source": [
    "print(app)"
   ]
  },
  {
   "cell_type": "code",
   "execution_count": 23,
   "metadata": {},
   "outputs": [],
   "source": [
    "from flask_sqlalchemy import SQLAlchemy"
   ]
  },
  {
   "cell_type": "code",
   "execution_count": 24,
   "metadata": {},
   "outputs": [],
   "source": [
    "app.config['SQLALCHEMY_DATABASE_URI'] = os.getenv(\"DATABASE_URI\", \"sqlite:///chatbot.db\")"
   ]
  },
  {
   "cell_type": "code",
   "execution_count": 25,
   "metadata": {},
   "outputs": [],
   "source": [
    "app.config['SQLALCHEMY_TRACK_MODIFICATIONS'] = False\n"
   ]
  },
  {
   "cell_type": "code",
   "execution_count": 26,
   "metadata": {},
   "outputs": [],
   "source": [
    "db = SQLAlchemy(app)\n"
   ]
  },
  {
   "cell_type": "code",
   "execution_count": 27,
   "metadata": {},
   "outputs": [],
   "source": [
    "test_item = {\n",
    "      \n",
    "      \"id\": 1,\n",
    "      \"name\": \"Spicy Chicken Wings\",\n",
    "      \"is_veg\": False,\n",
    "      \"description\": \"Crispy, golden chicken wings marinated in a fiery blend of hot chili, garlic, paprika, and a dash of cayenne pepper. They offer a bold, spicy kick with a hint of tanginess from a vinegar-based sauce, and are served with a cooling blue cheese dip to balance the heat.\",\n",
    "      \"price\": 8.99,\n",
    "      \"category\": \"Appetizer\"\n",
    "},"
   ]
  },
  {
   "cell_type": "code",
   "execution_count": 28,
   "metadata": {},
   "outputs": [],
   "source": [
    "class MenuItem(db.Model):\n",
    "    __tablename__ = 'menu_items'\n",
    "    id = db.Column(db.Integer, primary_key=True)           # Unique identifier for each menu item\n",
    "    name = db.Column(db.String(100), nullable=False)         # Name of the dish/item\n",
    "    description = db.Column(db.String(255))                  # A brief description of the item\n",
    "    price = db.Column(db.Float, nullable=False)              # Price of the item\n",
    "    category = db.Column(db.String(50), nullable=False)      # Category (e.g., appetizer, main course, dessert)\n",
    "    available = db.Column(db.Boolean, default=True)          # Availability flag\n",
    "\n",
    "    def to_dict(self):\n",
    "        \"\"\"Convert the MenuItem instance to a dictionary for JSON responses.\"\"\"\n",
    "        return {\n",
    "            \"id\": self.id,\n",
    "            \"name\": self.name,\n",
    "            \"description\": self.description,\n",
    "            \"price\": self.price,\n",
    "            \"category\": self.category,\n",
    "            \"available\": self.available\n",
    "        }\n"
   ]
  },
  {
   "cell_type": "code",
   "execution_count": null,
   "metadata": {},
   "outputs": [],
   "source": []
  }
 ],
 "metadata": {
  "kernelspec": {
   "display_name": "Version_1",
   "language": "python",
   "name": "python3"
  },
  "language_info": {
   "codemirror_mode": {
    "name": "ipython",
    "version": 3
   },
   "file_extension": ".py",
   "mimetype": "text/x-python",
   "name": "python",
   "nbconvert_exporter": "python",
   "pygments_lexer": "ipython3",
   "version": "3.13.2"
  }
 },
 "nbformat": 4,
 "nbformat_minor": 2
}
